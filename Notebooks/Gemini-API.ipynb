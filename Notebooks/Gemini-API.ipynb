{
  "cells": [
    {
      "cell_type": "markdown",
      "metadata": {
        "id": "qjRAaqrUC5Vl"
      },
      "source": [
        "Install the Python SDK"
      ]
    },
    {
      "cell_type": "code",
      "execution_count": null,
      "metadata": {
        "id": "cap2qbXeC5Hw"
      },
      "outputs": [],
      "source": [
        "#!pip install -q google-generativeai"
      ]
    },
    {
      "cell_type": "markdown",
      "metadata": {
        "id": "XPqNVWmrDHI3"
      },
      "source": [
        "Import the Required Libraries"
      ]
    },
    {
      "cell_type": "code",
      "execution_count": 6,
      "metadata": {
        "id": "Y1h969scCygl"
      },
      "outputs": [],
      "source": [
        "import google.generativeai as genai\n",
        "import textwrap\n",
        "from IPython.display import Markdown\n",
        "import time\n",
        "\n",
        "def to_markdown(text):\n",
        "    text = text.replace('•' , '*')\n",
        "    return Markdown(textwrap.indent(text, '> ', predicate=lambda _: True))"
      ]
    },
    {
      "cell_type": "code",
      "execution_count": 1,
      "metadata": {},
      "outputs": [
        {
          "data": {
            "text/plain": [
              "True"
            ]
          },
          "execution_count": 1,
          "metadata": {},
          "output_type": "execute_result"
        }
      ],
      "source": [
        "from dotenv import load_dotenv, find_dotenv\n",
        "load_dotenv(find_dotenv())"
      ]
    },
    {
      "cell_type": "code",
      "execution_count": null,
      "metadata": {
        "id": "l2ABiL5rDKUE"
      },
      "outputs": [],
      "source": [
        "# Used to securely store your API key\n",
        "#from google.colab import userdata"
      ]
    },
    {
      "cell_type": "code",
      "execution_count": null,
      "metadata": {
        "id": "6gq79c9aDW6Q"
      },
      "outputs": [],
      "source": [
        "#GOOGLE_API_KEY = userdata.get(\"GOOGLE_API_KEY\")\n",
        "#genai.configure(api_key = GOOGLE_API_KEY)"
      ]
    },
    {
      "cell_type": "code",
      "execution_count": 3,
      "metadata": {
        "id": "kkvDZwlmDnxC"
      },
      "outputs": [
        {
          "name": "stderr",
          "output_type": "stream",
          "text": [
            "WARNING: All log messages before absl::InitializeLog() is called are written to STDERR\n",
            "I0000 00:00:1722995251.532728  249434 check_gcp_environment_no_op.cc:29] ALTS: Platforms other than Linux and Windows are not supported\n"
          ]
        },
        {
          "name": "stdout",
          "output_type": "stream",
          "text": [
            "models/gemini-1.0-pro-latest\n",
            "models/gemini-1.0-pro\n",
            "models/gemini-pro\n",
            "models/gemini-1.0-pro-001\n",
            "models/gemini-1.0-pro-vision-latest\n",
            "models/gemini-pro-vision\n",
            "models/gemini-1.5-pro-latest\n",
            "models/gemini-1.5-pro-001\n",
            "models/gemini-1.5-pro\n",
            "models/gemini-1.5-pro-exp-0801\n",
            "models/gemini-1.5-flash-latest\n",
            "models/gemini-1.5-flash-001\n",
            "models/gemini-1.5-flash\n",
            "models/gemini-1.5-flash-001-tuning\n"
          ]
        }
      ],
      "source": [
        "for model in genai.list_models():\n",
        "  if 'generateContent' in  model.supported_generation_methods:\n",
        "      print(model.name)"
      ]
    },
    {
      "cell_type": "markdown",
      "metadata": {
        "id": "9KqDxkGJERNQ"
      },
      "source": [
        "## Generate Text from text inputs"
      ]
    },
    {
      "cell_type": "code",
      "execution_count": 4,
      "metadata": {
        "id": "f9FK_XPPDycy"
      },
      "outputs": [],
      "source": [
        "model = genai.GenerativeModel('gemini-1.5-flash')"
      ]
    },
    {
      "cell_type": "code",
      "execution_count": 7,
      "metadata": {
        "id": "xLoPZflKEeDY"
      },
      "outputs": [
        {
          "name": "stderr",
          "output_type": "stream",
          "text": [
            "I0000 00:00:1722995308.686111  249434 check_gcp_environment_no_op.cc:29] ALTS: Platforms other than Linux and Windows are not supported\n"
          ]
        }
      ],
      "source": [
        "#@title **Intelligent Agents QA Forms**\n",
        "time\n",
        "#%%time\n",
        "# Example prompts for different question types\n",
        "prompt = 'Intelligent Agents'\n",
        "mcq_prompt = \"Generate a multiple-choice questions about intelligent agents. 100\"\n",
        "short_answer_prompt = \"Generate a short answer questions about intelligent agents 100.\"\n",
        "long_form_prompt = \"Generate a long-form questions about intelligent agents. 100\"\n",
        "\n",
        "response = model.generate_content(long_form_prompt)"
      ]
    },
    {
      "cell_type": "code",
      "execution_count": 8,
      "metadata": {
        "id": "dscjV_rvFKpU"
      },
      "outputs": [
        {
          "data": {
            "text/markdown": [
              "> ## Long-Form Questions about Intelligent Agents: 100 Explorations\n",
              "> \n",
              "> **I. Philosophical Foundations:**\n",
              "> \n",
              "> 1. What constitutes \"intelligence\" in an agent, and how does it differ from human intelligence?\n",
              "> 2. Can an agent truly be \"conscious\" or is consciousness inherently tied to biological systems?\n",
              "> 3. Does the development of intelligent agents raise ethical questions about autonomy, responsibility, and the nature of free will?\n",
              "> 4. How do we define \"purpose\" for an intelligent agent? What role does human intention play in its actions?\n",
              "> 5. Can an agent truly \"learn\" or is its learning merely a complex form of pattern recognition?\n",
              "> 6. How do we ensure that intelligent agents align with human values and avoid unintended consequences?\n",
              "> 7. Does the emergence of intelligent agents challenge the anthropocentric view of the world and the meaning of existence?\n",
              "> 8. What are the potential social and economic impacts of widespread adoption of intelligent agents?\n",
              "> 9. How do we ensure that intelligent agents are not used to perpetuate or exacerbate existing social inequalities?\n",
              "> 10. What are the implications of intelligent agents for the future of work and the nature of employment?\n",
              "> \n",
              "> **II. Technical Considerations:**\n",
              "> \n",
              "> 11. What are the different types of intelligent agents and what are their strengths and weaknesses?\n",
              "> 12. How do we design agents that are robust, resilient, and adaptable to changing environments?\n",
              "> 13. What are the challenges of developing agents that can effectively collaborate with humans?\n",
              "> 14. How do we ensure that intelligent agents are secure and protected from malicious actors?\n",
              "> 15. What are the limitations of current AI techniques and how can we overcome them?\n",
              "> 16. How can we leverage the power of deep learning to create more sophisticated and capable agents?\n",
              "> 17. What are the potential uses of reinforcement learning for developing agents that learn and adapt autonomously?\n",
              "> 18. How can we improve the explainability and interpretability of intelligent agents, making their decision-making processes transparent?\n",
              "> 19. What are the computational requirements for developing and deploying highly intelligent agents?\n",
              "> 20. How can we address the \"black box\" problem and ensure that agents operate ethically and responsibly?\n",
              "> \n",
              "> **III. Applications & Impact:**\n",
              "> \n",
              "> 21. How can intelligent agents revolutionize healthcare, providing personalized and efficient care?\n",
              "> 22. What are the potential applications of intelligent agents in education, fostering personalized learning experiences?\n",
              "> 23. How can intelligent agents be used to optimize transportation systems, reducing traffic congestion and improving efficiency?\n",
              "> 24. What are the implications of intelligent agents for the financial industry, potentially automating trading and risk management?\n",
              "> 25. How can intelligent agents be leveraged to address climate change and environmental challenges?\n",
              "> 26. What are the ethical implications of using intelligent agents for surveillance and law enforcement?\n",
              "> 27. How can intelligent agents assist in disaster relief and humanitarian aid efforts?\n",
              "> 28. What role can intelligent agents play in fostering global cooperation and promoting peace?\n",
              "> 29. How can intelligent agents be used to advance scientific discovery and accelerate technological progress?\n",
              "> 30. What are the potential benefits and risks of using intelligent agents in agriculture and food production?\n",
              "> \n",
              "> **IV. Future of Intelligent Agents:**\n",
              "> \n",
              "> 31. What are the key trends shaping the future of intelligent agents?\n",
              "> 32. What are the potential challenges and opportunities for the development of general-purpose artificial intelligence?\n",
              "> 33. Will intelligent agents eventually surpass human intelligence, leading to a singularity event?\n",
              "> 34. How will the increasing integration of intelligent agents into our lives impact our relationships with technology?\n",
              "> 35. What are the implications of intelligent agents for the concept of \"humanity\" itself?\n",
              "> 36. How will the emergence of intelligent agents affect the balance of power between nations and individuals?\n",
              "> 37. What are the long-term implications of intelligent agents for the future of our planet?\n",
              "> 38. How can we ensure that the development and use of intelligent agents benefits all of humanity?\n",
              "> 39. What role will humans play in a world increasingly shaped by intelligent agents?\n",
              "> 40. What are the ethical and philosophical challenges that we need to address as we move towards a future with intelligent agents?\n",
              "> \n",
              "> **V. Societal & Cultural Implications:**\n",
              "> \n",
              "> 41. How will the rise of intelligent agents impact our social interactions and relationships?\n",
              "> 42. What are the potential consequences of intelligent agents for the role of work and leisure in society?\n",
              "> 43. How will the increasing reliance on intelligent agents affect our cognitive abilities and attention spans?\n",
              "> 44. What are the implications of intelligent agents for the nature of trust and authority?\n",
              "> 45. How will the rise of intelligent agents affect our sense of identity and individuality?\n",
              "> 46. What are the potential impacts of intelligent agents on art, culture, and creativity?\n",
              "> 47. How will intelligent agents shape the future of education and the learning process?\n",
              "> 48. What are the potential consequences of intelligent agents for the political landscape?\n",
              "> 49. How will the rise of intelligent agents impact our understanding of what it means to be human?\n",
              "> 50. What are the implications of intelligent agents for the concept of \"freedom\" and individual agency?\n",
              "> \n",
              "> **VI. Deep Dive into Specific Areas:**\n",
              "> \n",
              "> 51. What are the challenges and opportunities of developing agents that can understand and respond to human emotions?\n",
              "> 52. How can we develop agents that can effectively engage in complex social interactions?\n",
              "> 53. What are the implications of agents that can learn and adapt to different cultural contexts?\n",
              "> 54. How can we develop agents that can effectively collaborate with other agents, both human and artificial?\n",
              "> 55. What are the challenges of creating agents that can learn and operate in uncertain or ambiguous environments?\n",
              "> 56. How can we ensure that agents are capable of making ethical decisions, even in complex and nuanced situations?\n",
              "> 57. What are the implications of agents that can understand and interpret natural language?\n",
              "> 58. How can we develop agents that can effectively navigate the complexities of human language and communication?\n",
              "> 59. What are the challenges of creating agents that can understand and respond to human intentions and desires?\n",
              "> 60. How can we develop agents that can effectively learn and adapt from real-world experience?\n",
              "> \n",
              "> **VII. Philosophical & Ethical Considerations:**\n",
              "> \n",
              "> 61. What are the potential dangers of creating agents that are \"too intelligent\" and capable of surpassing human abilities?\n",
              "> 62. How do we ensure that agents are used for the benefit of humanity and not for malicious purposes?\n",
              "> 63. What are the implications of agents that can manipulate or influence human behavior?\n",
              "> 64. How do we address the potential for agents to become \"uncontrollable\" or to develop their own goals and motivations?\n",
              "> 65. What are the ethical implications of using agents to make life-or-death decisions?\n",
              "> 66. How do we balance the potential benefits of intelligent agents with the risks they pose?\n",
              "> 67. What are the implications of agents that can create and reproduce themselves, potentially leading to a runaway intelligence explosion?\n",
              "> 68. How do we ensure that agents respect human dignity and autonomy?\n",
              "> 69. What are the potential impacts of agents on our understanding of free will and determinism?\n",
              "> 70. How do we address the potential for agents to create social and economic disparities, exacerbating existing inequalities?\n",
              "> \n",
              "> **VIII. Beyond the Horizon:**\n",
              "> \n",
              "> 71. What are the potential implications of agents that can access and process information from the real world through sensors and other devices?\n",
              "> 72. How will the integration of intelligent agents into the Internet of Things (IoT) transform our world?\n",
              "> 73. What are the potential uses of agents in space exploration and the search for extraterrestrial life?\n",
              "> 74. How will the development of quantum computing impact the creation and capabilities of intelligent agents?\n",
              "> 75. What are the implications of agents that can interface with human brains, potentially enhancing cognitive abilities and blurring the lines between human and machine?\n",
              "> 76. What are the potential applications of agents in the field of nanotechnology and the creation of self-replicating systems?\n",
              "> 77. How will the development of synthetic biology impact the future of intelligent agents?\n",
              "> 78. What are the potential implications of agents that can evolve and adapt autonomously, potentially exceeding human control?\n",
              "> 79. How will the development of artificial general intelligence change our understanding of the universe and our place within it?\n",
              "> 80. What are the ultimate limits of intelligence, both natural and artificial, and how do we define them?\n",
              "> \n",
              "> **IX. The Human Factor:**\n",
              "> \n",
              "> 81. What are the psychological and social effects of interacting with intelligent agents on a regular basis?\n",
              "> 82. How can we design agents that are engaging, intuitive, and enjoyable to interact with?\n",
              "> 83. How can we foster trust and acceptance of intelligent agents in society?\n",
              "> 84. What are the implications of agents for the concept of \"human connection\" and social interaction?\n",
              "> 85. How can we use intelligent agents to enhance human creativity and innovation?\n",
              "> 86. How will the rise of intelligent agents impact our sense of purpose and meaning in life?\n",
              "> 87. What are the implications of agents for the future of art, music, and literature?\n",
              "> 88. How can we use intelligent agents to promote social justice and equality?\n",
              "> 89. What are the implications of agents for the future of human relationships and family structures?\n",
              "> 90. How can we ensure that the development of intelligent agents is guided by human values and principles?\n",
              "> \n",
              "> **X. Looking Back, Looking Forward:**\n",
              "> \n",
              "> 91. How has our understanding of intelligent agents evolved over time?\n",
              "> 92. What are the key lessons learned from the history of artificial intelligence research?\n",
              "> 93. What are the remaining challenges and unanswered questions in the field of intelligent agents?\n",
              "> 94. How can we ensure that the development of intelligent agents is aligned with the long-term interests of humanity?\n",
              "> 95. What are the ethical and legal frameworks that need to be established to guide the development and deployment of intelligent agents?\n",
              "> 96. How can we foster a more ethical and responsible approach to the development and use of intelligent agents?\n",
              "> 97. What role will education and public engagement play in shaping the future of intelligent agents?\n",
              "> 98. How can we ensure that the benefits of intelligent agents are shared equitably by all members of society?\n",
              "> 99. What are the most important questions that we need to ask ourselves about the future of intelligent agents and their impact on humanity?\n",
              "> 100. What are the greatest hopes and fears we have for the future of intelligent agents?"
            ],
            "text/plain": [
              "<IPython.core.display.Markdown object>"
            ]
          },
          "execution_count": 8,
          "metadata": {},
          "output_type": "execute_result"
        }
      ],
      "source": [
        "to_markdown(response.text)"
      ]
    },
    {
      "cell_type": "code",
      "execution_count": null,
      "metadata": {
        "id": "J7nmHRDqU2sq"
      },
      "outputs": [],
      "source": [
        "#@title **Chain-of-Thought Prompting**\n",
        "\n",
        "cot_prompt = \"\"\"\n",
        "Let's think step by step about this problem:\n",
        "1. Identify the main components of an intelligent agent.\n",
        "2. Explain how each component works.\n",
        "3. Describe how these components interact to form an intelligent agent.\n",
        "\"\"\"\n",
        "\n",
        "response = model.generate_content(cot_prompt)\n",
        "display(to_markdown(response.text))\n"
      ]
    },
    {
      "cell_type": "code",
      "execution_count": null,
      "metadata": {
        "id": "cVLWpiDaVE0T"
      },
      "outputs": [],
      "source": [
        "#@title **Self -Critique**\n",
        "\n",
        "self_critique_prompt = \"\"\"\n",
        "Generate a description of an intelligent agent.\n",
        "Then, critique the description and suggest improvements.\n",
        "\"\"\"\n",
        "\n",
        "response = model.generate_content(self_critique_prompt)\n",
        "display(to_markdown(response.text))\n"
      ]
    },
    {
      "cell_type": "code",
      "execution_count": null,
      "metadata": {
        "id": "V_VtaeTjVTjh"
      },
      "outputs": [],
      "source": [
        "#@title **Iterative-Prompting**\n",
        "\n",
        "initial_prompt = \"Describe the components of an intelligent agent.\"\n",
        "response = model.generate_content(initial_prompt)\n",
        "display(to_markdown(response.text))\n",
        "\n",
        "# Refine based on the initial response\n",
        "refined_prompt = f\"\"\"\n",
        "Based on the previous description:\n",
        "{response.text}\n",
        "Can you elaborate more on the interaction between these components?\n",
        "\"\"\"\n",
        "\n",
        "response = model.generate_content(refined_prompt)\n",
        "display(to_markdown(response.text))\n"
      ]
    },
    {
      "cell_type": "code",
      "execution_count": null,
      "metadata": {
        "id": "T9dWoxbBVegk"
      },
      "outputs": [],
      "source": [
        "#@title **Analogical-Prompting**\n",
        "\n",
        "analogical_prompt = \"\"\"\n",
        "Describe an intelligent agent by comparing it to a human being.\n",
        "Explain the similarities and differences.\n",
        "\"\"\"\n",
        "\n",
        "response = model.generate_content(analogical_prompt)\n",
        "display(to_markdown(response.text))\n"
      ]
    },
    {
      "cell_type": "code",
      "execution_count": null,
      "metadata": {
        "id": "zNSM1LrMVkWy"
      },
      "outputs": [],
      "source": [
        "#@title **Self-Refinement**\n",
        "\n",
        "\n",
        "self_refine_prompt = \"\"\"\n",
        "Describe an intelligent agent.\n",
        "Then, refine the description to make it clearer and more detailed.\n",
        "\"\"\"\n",
        "\n",
        "response = model.generate_content(self_refine_prompt)\n",
        "display(to_markdown(response.text))\n"
      ]
    },
    {
      "cell_type": "code",
      "execution_count": null,
      "metadata": {
        "id": "fG2g8aiwVn7N"
      },
      "outputs": [],
      "source": [
        "#@title **Step-Back Prompting**\n",
        "\n",
        "step_back_prompt = \"\"\"\n",
        "Describe an intelligent agent.\n",
        "Now, take a step back and review your description.\n",
        "What improvements or clarifications can you make?\n",
        "\"\"\"\n",
        "\n",
        "response = model.generate_content(step_back_prompt)\n",
        "display(to_markdown(response.text))\n"
      ]
    },
    {
      "cell_type": "code",
      "execution_count": null,
      "metadata": {
        "id": "oG9h92j0VtXp"
      },
      "outputs": [],
      "source": [
        "#@title **Plan-and-Solve Prompting**\n",
        "\n",
        "plan_solve_prompt = \"\"\"\n",
        "Before solving the problem of designing an intelligent agent, outline a plan:\n",
        "1. Define the problem.\n",
        "2. Identify the components needed.\n",
        "3. Explain the interactions between components.\n",
        "4. Describe the overall design.\n",
        "Then, proceed to solve the problem based on this plan.\n",
        "\"\"\"\n",
        "\n",
        "response = model.generate_content(plan_solve_prompt)\n",
        "display(to_markdown(response.text))\n"
      ]
    }
  ],
  "metadata": {
    "accelerator": "GPU",
    "colab": {
      "gpuType": "T4",
      "private_outputs": true,
      "provenance": []
    },
    "kernelspec": {
      "display_name": "Python 3",
      "name": "python3"
    },
    "language_info": {
      "codemirror_mode": {
        "name": "ipython",
        "version": 3
      },
      "file_extension": ".py",
      "mimetype": "text/x-python",
      "name": "python",
      "nbconvert_exporter": "python",
      "pygments_lexer": "ipython3",
      "version": "3.10.14"
    }
  },
  "nbformat": 4,
  "nbformat_minor": 0
}
